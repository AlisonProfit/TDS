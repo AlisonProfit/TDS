{
 "cells": [
  {
   "cell_type": "code",
   "execution_count": null,
   "metadata": {},
   "outputs": [],
   "source": [
    "from algorithmV1 import Encoding\n",
    "\n",
    "import pickle\n",
    "import numpy as np\n",
    "import matplotlib.pyplot as plt\n",
    "\n",
    "from scipy.io.wavfile import read\n",
    "from scipy.signal import spectrogram\n",
    "import scipy.signal\n",
    "\n",
    "fs, s = read(\"samples\\Frisk - Au.Ra.wav\")\n",
    "size = 128\n",
    "noverlap = 32\n",
    "# nperseg si la fenêtre n'a pas directement la bonne taille\n",
    "window = scipy.signal.get_window(\"boxcar\", size, fftbins=True)"
   ]
  },
  {
   "cell_type": "markdown",
   "metadata": {},
   "source": [
    "### Question 1"
   ]
  },
  {
   "cell_type": "code",
   "execution_count": null,
   "metadata": {},
   "outputs": [],
   "source": [
    "fingerprint = Encoding(window, size)\n",
    "spectro, peak = fingerprint.process(fs, s)\n",
    "f, t, Sxx = spectro"
   ]
  },
  {
   "cell_type": "markdown",
   "metadata": {},
   "source": [
    "### Question 2"
   ]
  },
  {
   "cell_type": "markdown",
   "metadata": {},
   "source": []
  },
  {
   "cell_type": "code",
   "execution_count": null,
   "metadata": {},
   "outputs": [],
   "source": [
    "        specto = spectrogram(s, fs, window = self.window, noverlap=32)\n",
    "        f, t, Sxx = specto\n",
    "        peak = peak_local_max(Sxx, min_distance= 1000, exclude_border=False)\n",
    "        self.peak = peak\n",
    "        self.specto = specto\n",
    "        return (specto, peak)"
   ]
  },
  {
   "cell_type": "markdown",
   "metadata": {},
   "source": [
    "Lorsque l'on s'intéresse à la taille de peak, on arrive a une dizaine de maxima (48 pour le morceau \"Frisk - Au\") pour un paramètre de 1000 en entrée de la fonction speak_local_max. "
   ]
  },
  {
   "cell_type": "markdown",
   "metadata": {},
   "source": []
  }
 ],
 "metadata": {
  "language_info": {
   "name": "python"
  },
  "orig_nbformat": 4
 },
 "nbformat": 4,
 "nbformat_minor": 2
}
