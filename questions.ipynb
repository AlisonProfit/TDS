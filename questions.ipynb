{
 "cells": [
  {
   "cell_type": "code",
   "execution_count": null,
   "metadata": {},
   "outputs": [],
   "source": [
    "from algorithmV1 import Encoding\n",
    "\n",
    "import pickle\n",
    "import numpy as np\n",
    "import matplotlib.pyplot as plt\n",
    "\n",
    "from scipy.io.wavfile import read\n",
    "from scipy.signal import spectrogram\n",
    "import scipy.signal\n",
    "\n",
    "fs, s = read(\"samples\\Frisk - Au.Ra.wav\")\n",
    "size = 128\n",
    "noverlap = 32\n",
    "# nperseg si la fenêtre n'a pas directement la bonne taille\n",
    "window = scipy.signal.get_window(\"boxcar\", size, fftbins=True)"
   ]
  },
  {
   "cell_type": "markdown",
   "metadata": {},
   "source": [
    "### Question 1"
   ]
  },
  {
   "cell_type": "code",
   "execution_count": null,
   "metadata": {},
   "outputs": [],
   "source": [
    "fingerprint = Encoding(window, size)\n",
    "spectro, peak = fingerprint.process(fs, s)\n",
    "f, t, Sxx = spectro"
   ]
  }
 ],
 "metadata": {
  "language_info": {
   "name": "python"
  },
  "orig_nbformat": 4
 },
 "nbformat": 4,
 "nbformat_minor": 2
}
