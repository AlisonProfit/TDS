{
 "cells": [
  {
   "cell_type": "code",
   "execution_count": 1,
   "metadata": {},
   "outputs": [],
   "source": [
    "from algorithm import Encoding\n",
    "\n",
    "import pickle\n",
    "import numpy as np\n",
    "import matplotlib.pyplot as plt\n",
    "\n",
    "from scipy.io.wavfile import read\n",
    "from scipy.signal import spectrogram\n",
    "import scipy.signal\n",
    "\n",
    "fs, s = read(\"samples\\Frisk - Au.Ra.wav\")\n",
    "size = 128\n",
    "noverlap = 32\n",
    "# nperseg si la fenêtre n'a pas directement la bonne taille\n",
    "window = scipy.signal.get_window(\"boxcar\", size, fftbins=True)"
   ]
  },
  {
   "cell_type": "markdown",
   "metadata": {},
   "source": [
    "### Question 1"
   ]
  },
  {
   "cell_type": "code",
   "execution_count": 35,
   "metadata": {},
   "outputs": [
    {
     "name": "stdout",
     "output_type": "stream",
     "text": [
      "[     0.        0.        0.   ... 607869.1  648005.   698070.25]\n",
      "(10774790,)\n",
      "444724\n"
     ]
    }
   ],
   "source": [
    "fingerprint = Encoding(window, size)\n",
    "spectro, peak = fingerprint.process(fs, s)\n",
    "f, t, Sxx = spectro\n",
    "\n",
    "\n",
    "Sxx = Sxx.flatten()\n",
    "\n",
    "Sxx.sort()\n",
    "print(Sxx)\n",
    "total_energy = float(sum(Sxx))\n",
    "energy, i = 0., 1\n",
    "while energy/total_energy < 0.9:\n",
    "    energy += float(Sxx[-i])\n",
    "    # print(Sxx[-i])\n",
    "    i += 1\n",
    "\n",
    "print(Sxx.shape)\n",
    "print(i)"
   ]
  },
  {
   "cell_type": "markdown",
   "metadata": {},
   "source": [
    "444724 points sur 10 774 790"
   ]
  },
  {
   "cell_type": "markdown",
   "metadata": {},
   "source": [
    "### Question 2"
   ]
  },
  {
   "cell_type": "markdown",
   "metadata": {},
   "source": []
  },
  {
   "cell_type": "code",
   "execution_count": null,
   "metadata": {},
   "outputs": [],
   "source": [
    "        specto = spectrogram(s, fs, window = self.window, noverlap=32)\n",
    "        f, t, Sxx = specto\n",
    "        peak = peak_local_max(Sxx, min_distance= 1000, exclude_border=False)\n",
    "        self.peak = peak\n",
    "        self.specto = specto\n"
   ]
  },
  {
   "cell_type": "markdown",
   "metadata": {},
   "source": [
    "Lorsque l'on s'intéresse à la taille de peak, on arrive a une dizaine de maxima (48 pour le morceau \"Frisk - Au\") pour un paramètre de 1000 en entrée de la fonction peak_local_max. "
   ]
  },
  {
   "cell_type": "markdown",
   "metadata": {},
   "source": [
    "### Question 3"
   ]
  },
  {
   "cell_type": "markdown",
   "metadata": {},
   "source": [
    "Dans le hash il n'y a que la différence de temps entre la cible et l'ancre, ainsi le hash est invariant pas translation, on peut trouver un extrait même s'il n'a pas la même origine que le son original."
   ]
  }
 ],
 "metadata": {
  "interpreter": {
   "hash": "2172913d4612856e3bbc325c0b7fb332e765f63a52fed726fb1f267ce3eabcc0"
  },
  "kernelspec": {
   "display_name": "Python 3.9.5 ('base')",
   "language": "python",
   "name": "python3"
  },
  "language_info": {
   "codemirror_mode": {
    "name": "ipython",
    "version": 3
   },
   "file_extension": ".py",
   "mimetype": "text/x-python",
   "name": "python",
   "nbconvert_exporter": "python",
   "pygments_lexer": "ipython3",
   "version": "3.9.5"
  },
  "orig_nbformat": 4
 },
 "nbformat": 4,
 "nbformat_minor": 2
}
